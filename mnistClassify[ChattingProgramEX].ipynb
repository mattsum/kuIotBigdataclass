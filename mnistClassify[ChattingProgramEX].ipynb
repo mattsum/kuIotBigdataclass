{
  "nbformat": 4,
  "nbformat_minor": 0,
  "metadata": {
    "colab": {
      "provenance": [],
      "authorship_tag": "ABX9TyPXfT6zYQPECuVobG5UoLnl",
      "include_colab_link": true
    },
    "kernelspec": {
      "name": "python3",
      "display_name": "Python 3"
    },
    "language_info": {
      "name": "python"
    }
  },
  "cells": [
    {
      "cell_type": "markdown",
      "metadata": {
        "id": "view-in-github",
        "colab_type": "text"
      },
      "source": [
        "<a href=\"https://colab.research.google.com/github/mattsum/kuIotBigdataclass/blob/main/mnistClassify%5BChattingProgramEX%5D.ipynb\" target=\"_parent\"><img src=\"https://colab.research.google.com/assets/colab-badge.svg\" alt=\"Open In Colab\"/></a>"
      ]
    },
    {
      "cell_type": "code",
      "execution_count": 1,
      "metadata": {
        "colab": {
          "base_uri": "https://localhost:8080/"
        },
        "id": "YcUmlxNiZtjY",
        "outputId": "a32f2153-8141-4573-a98b-d48bd8d0325e"
      },
      "outputs": [
        {
          "output_type": "execute_result",
          "data": {
            "text/plain": [
              "dict_keys(['data', 'target', 'frame', 'feature_names', 'target_names', 'images', 'DESCR'])"
            ]
          },
          "metadata": {},
          "execution_count": 1
        }
      ],
      "source": [
        "from sklearn import datasets\n",
        "\n",
        "digit_dataset = datasets.load_digits()\n",
        "digit_dataset.keys()\n"
      ]
    },
    {
      "cell_type": "code",
      "source": [
        "type(digit_dataset)"
      ],
      "metadata": {
        "colab": {
          "base_uri": "https://localhost:8080/",
          "height": 187
        },
        "id": "4KCUgvvUZwT4",
        "outputId": "e9c66193-c8d6-4bfd-93e7-9cc35fcd70af"
      },
      "execution_count": 2,
      "outputs": [
        {
          "output_type": "execute_result",
          "data": {
            "text/plain": [
              "sklearn.utils._bunch.Bunch"
            ],
            "text/html": [
              "<div style=\"max-width:800px; border: 1px solid var(--colab-border-color);\"><style>\n",
              "      pre.function-repr-contents {\n",
              "        overflow-x: auto;\n",
              "        padding: 8px 12px;\n",
              "        max-height: 500px;\n",
              "      }\n",
              "\n",
              "      pre.function-repr-contents.function-repr-contents-collapsed {\n",
              "        cursor: pointer;\n",
              "        max-height: 100px;\n",
              "      }\n",
              "    </style>\n",
              "    <pre style=\"white-space: initial; background:\n",
              "         var(--colab-secondary-surface-color); padding: 8px 12px;\n",
              "         border-bottom: 1px solid var(--colab-border-color);\"><b>sklearn.utils._bunch.Bunch</b><br/>def __init__(**kwargs)</pre><pre class=\"function-repr-contents function-repr-contents-collapsed\" style=\"\"><a class=\"filepath\" style=\"display:none\" href=\"#\">/usr/local/lib/python3.10/dist-packages/sklearn/utils/_bunch.py</a>Container object exposing keys as attributes.\n",
              "\n",
              "Bunch objects are sometimes used as an output for functions and methods.\n",
              "They extend dictionaries by enabling values to be accessed by key,\n",
              "`bunch[&quot;value_key&quot;]`, or by an attribute, `bunch.value_key`.\n",
              "\n",
              "Examples\n",
              "--------\n",
              "&gt;&gt;&gt; from sklearn.utils import Bunch\n",
              "&gt;&gt;&gt; b = Bunch(a=1, b=2)\n",
              "&gt;&gt;&gt; b[&#x27;b&#x27;]\n",
              "2\n",
              "&gt;&gt;&gt; b.b\n",
              "2\n",
              "&gt;&gt;&gt; b.a = 3\n",
              "&gt;&gt;&gt; b[&#x27;a&#x27;]\n",
              "3\n",
              "&gt;&gt;&gt; b.c = 6\n",
              "&gt;&gt;&gt; b[&#x27;c&#x27;]\n",
              "6</pre>\n",
              "      <script>\n",
              "      if (google.colab.kernel.accessAllowed && google.colab.files && google.colab.files.view) {\n",
              "        for (const element of document.querySelectorAll('.filepath')) {\n",
              "          element.style.display = 'block'\n",
              "          element.onclick = (event) => {\n",
              "            event.preventDefault();\n",
              "            event.stopPropagation();\n",
              "            google.colab.files.view(element.textContent, 1);\n",
              "          };\n",
              "        }\n",
              "      }\n",
              "      for (const element of document.querySelectorAll('.function-repr-contents')) {\n",
              "        element.onclick = (event) => {\n",
              "          event.preventDefault();\n",
              "          event.stopPropagation();\n",
              "          element.classList.toggle('function-repr-contents-collapsed');\n",
              "        };\n",
              "      }\n",
              "      </script>\n",
              "      </div>"
            ]
          },
          "metadata": {},
          "execution_count": 2
        }
      ]
    },
    {
      "cell_type": "code",
      "source": [
        "digit_dataset[\"images\"].shape\n"
      ],
      "metadata": {
        "colab": {
          "base_uri": "https://localhost:8080/"
        },
        "id": "uZFogTfIZxrq",
        "outputId": "a4be3523-2cbb-43c1-ca44-29e1c0b0f2f8"
      },
      "execution_count": 3,
      "outputs": [
        {
          "output_type": "execute_result",
          "data": {
            "text/plain": [
              "(1797, 8, 8)"
            ]
          },
          "metadata": {},
          "execution_count": 3
        }
      ]
    },
    {
      "cell_type": "code",
      "source": [
        "import matplotlib.pyplot as plt\n",
        "from random import randint\n",
        "\n",
        "_, axes = plt.subplots(nrows=1, ncols=4, figsize=(10, 3))\n",
        "for ax in axes:\n",
        "    num = randint(1, 1000)\n",
        "    image = digit_dataset[\"images\"][num]\n",
        "    label = digit_dataset[\"target\"][num]\n",
        "    ax.set_axis_off()\n",
        "    ax.imshow(image, cmap=plt.cm.gray_r, interpolation=\"nearest\")\n",
        "    ax.set_title(\"Training: %i\" % label)"
      ],
      "metadata": {
        "colab": {
          "base_uri": "https://localhost:8080/",
          "height": 227
        },
        "id": "8Xg3D5XqZxuQ",
        "outputId": "c4786d80-bf09-4a5f-e17e-f39744edb94b"
      },
      "execution_count": 4,
      "outputs": [
        {
          "output_type": "display_data",
          "data": {
            "text/plain": [
              "<Figure size 1000x300 with 4 Axes>"
            ],
            "image/png": "[encoded data removed]"
          },
          "metadata": {}
        }
      ]
    },
    {
      "cell_type": "code",
      "source": [
        "from sklearn.model_selection import train_test_split\n",
        "from sklearn.preprocessing import LabelEncoder\n",
        "import pandas as pd\n",
        "\n",
        "X = digit_dataset[\"data\"]\n",
        "y = digit_dataset[\"target\"]\n",
        "# y data mapping 123 to one two three\n",
        "y = pd.Series(y).map(\n",
        "    {\n",
        "        0: \"zero\",\n",
        "        1: \"one\",\n",
        "        2: \"two\",\n",
        "        3: \"three\",\n",
        "        4: \"four\",\n",
        "        5: \"five\",\n",
        "        6: \"six\",\n",
        "        7: \"seven\",\n",
        "        8: \"eight\",\n",
        "        9: \"nine\",\n",
        "    }\n",
        ")\n",
        "le = LabelEncoder()\n",
        "y = le.fit_transform(y)\n",
        "print(y)\n",
        "X_train, X_test, y_train, y_test = train_test_split(X, y)\n"
      ],
      "metadata": {
        "colab": {
          "base_uri": "https://localhost:8080/"
        },
        "id": "zBwbkbe0Zxwj",
        "outputId": "ef6a5afe-7b2a-4c3b-dff1-364abca6ff2f"
      },
      "execution_count": 5,
      "outputs": [
        {
          "output_type": "stream",
          "name": "stdout",
          "text": [
            "[9 4 8 ... 0 3 0]\n"
          ]
        }
      ]
    },
    {
      "cell_type": "code",
      "source": [
        "print(X.shape, X_train.shape, X_test.shape)"
      ],
      "metadata": {
        "colab": {
          "base_uri": "https://localhost:8080/"
        },
        "id": "rJ6PIwGrZxzW",
        "outputId": "af824141-42d4-4c77-c468-1c9160e88fb4"
      },
      "execution_count": 6,
      "outputs": [
        {
          "output_type": "stream",
          "name": "stdout",
          "text": [
            "(1797, 64) (1347, 64) (450, 64)\n"
          ]
        }
      ]
    },
    {
      "cell_type": "code",
      "source": [
        "from sklearn.linear_model import LogisticRegression\n",
        "\n",
        "logreg_ovr = LogisticRegression(multi_class=\"ovr\")\n",
        "logreg_softmax = LogisticRegression(multi_class=\"multinomial\", solver=\"sag\")\n",
        "\n",
        "# model fit\n",
        "logreg_ovr.fit(X_train, y_train)\n",
        "logreg_softmax.fit(X_train, y_train)"
      ],
      "metadata": {
        "colab": {
          "base_uri": "https://localhost:8080/",
          "height": 268
        },
        "id": "y6pVuMq7Zx16",
        "outputId": "75d76269-b1ba-4fd1-fb2e-f7a11d5b8abc"
      },
      "execution_count": 7,
      "outputs": [
        {
          "output_type": "stream",
          "name": "stderr",
          "text": [
            "/usr/local/lib/python3.10/dist-packages/sklearn/linear_model/_logistic.py:458: ConvergenceWarning: lbfgs failed to converge (status=1):\n",
            "STOP: TOTAL NO. of ITERATIONS REACHED LIMIT.\n",
            "\n",
            "Increase the number of iterations (max_iter) or scale the data as shown in:\n",
            "    https://scikit-learn.org/stable/modules/preprocessing.html\n",
            "Please also refer to the documentation for alternative solver options:\n",
            "    https://scikit-learn.org/stable/modules/linear_model.html#logistic-regression\n",
            "  n_iter_i = _check_optimize_result(\n",
            "/usr/local/lib/python3.10/dist-packages/sklearn/linear_model/_sag.py:350: ConvergenceWarning: The max_iter was reached which means the coef_ did not converge\n",
            "  warnings.warn(\n"
          ]
        },
        {
          "output_type": "execute_result",
          "data": {
            "text/plain": [
              "LogisticRegression(multi_class='multinomial', solver='sag')"
            ],
            "text/html": [
              "<style>#sk-container-id-1 {color: black;background-color: white;}#sk-container-id-1 pre{padding: 0;}#sk-container-id-1 div.sk-toggleable {background-color: white;}#sk-container-id-1 label.sk-toggleable__label {cursor: pointer;display: block;width: 100%;margin-bottom: 0;padding: 0.3em;box-sizing: border-box;text-align: center;}#sk-container-id-1 label.sk-toggleable__label-arrow:before {content: \"▸\";float: left;margin-right: 0.25em;color: #696969;}#sk-container-id-1 label.sk-toggleable__label-arrow:hover:before {color: black;}#sk-container-id-1 div.sk-estimator:hover label.sk-toggleable__label-arrow:before {color: black;}#sk-container-id-1 div.sk-toggleable__content {max-height: 0;max-width: 0;overflow: hidden;text-align: left;background-color: #f0f8ff;}#sk-container-id-1 div.sk-toggleable__content pre {margin: 0.2em;color: black;border-radius: 0.25em;background-color: #f0f8ff;}#sk-container-id-1 input.sk-toggleable__control:checked~div.sk-toggleable__content {max-height: 200px;max-width: 100%;overflow: auto;}#sk-container-id-1 input.sk-toggleable__control:checked~label.sk-toggleable__label-arrow:before {content: \"▾\";}#sk-container-id-1 div.sk-estimator input.sk-toggleable__control:checked~label.sk-toggleable__label {background-color: #d4ebff;}#sk-container-id-1 div.sk-label input.sk-toggleable__control:checked~label.sk-toggleable__label {background-color: #d4ebff;}#sk-container-id-1 input.sk-hidden--visually {border: 0;clip: rect(1px 1px 1px 1px);clip: rect(1px, 1px, 1px, 1px);height: 1px;margin: -1px;overflow: hidden;padding: 0;position: absolute;width: 1px;}#sk-container-id-1 div.sk-estimator {font-family: monospace;background-color: #f0f8ff;border: 1px dotted black;border-radius: 0.25em;box-sizing: border-box;margin-bottom: 0.5em;}#sk-container-id-1 div.sk-estimator:hover {background-color: #d4ebff;}#sk-container-id-1 div.sk-parallel-item::after {content: \"\";width: 100%;border-bottom: 1px solid gray;flex-grow: 1;}#sk-container-id-1 div.sk-label:hover label.sk-toggleable__label {background-color: #d4ebff;}#sk-container-id-1 div.sk-serial::before {content: \"\";position: absolute;border-left: 1px solid gray;box-sizing: border-box;top: 0;bottom: 0;left: 50%;z-index: 0;}#sk-container-id-1 div.sk-serial {display: flex;flex-direction: column;align-items: center;background-color: white;padding-right: 0.2em;padding-left: 0.2em;position: relative;}#sk-container-id-1 div.sk-item {position: relative;z-index: 1;}#sk-container-id-1 div.sk-parallel {display: flex;align-items: stretch;justify-content: center;background-color: white;position: relative;}#sk-container-id-1 div.sk-item::before, #sk-container-id-1 div.sk-parallel-item::before {content: \"\";position: absolute;border-left: 1px solid gray;box-sizing: border-box;top: 0;bottom: 0;left: 50%;z-index: -1;}#sk-container-id-1 div.sk-parallel-item {display: flex;flex-direction: column;z-index: 1;position: relative;background-color: white;}#sk-container-id-1 div.sk-parallel-item:first-child::after {align-self: flex-end;width: 50%;}#sk-container-id-1 div.sk-parallel-item:last-child::after {align-self: flex-start;width: 50%;}#sk-container-id-1 div.sk-parallel-item:only-child::after {width: 0;}#sk-container-id-1 div.sk-dashed-wrapped {border: 1px dashed gray;margin: 0 0.4em 0.5em 0.4em;box-sizing: border-box;padding-bottom: 0.4em;background-color: white;}#sk-container-id-1 div.sk-label label {font-family: monospace;font-weight: bold;display: inline-block;line-height: 1.2em;}#sk-container-id-1 div.sk-label-container {text-align: center;}#sk-container-id-1 div.sk-container {/* jupyter's `normalize.less` sets `[hidden] { display: none; }` but bootstrap.min.css set `[hidden] { display: none !important; }` so we also need the `!important` here to be able to override the default hidden behavior on the sphinx rendered scikit-learn.org. See: https://github.com/scikit-learn/scikit-learn/issues/21755 */display: inline-block !important;position: relative;}#sk-container-id-1 div.sk-text-repr-fallback {display: none;}</style><div id=\"sk-container-id-1\" class=\"sk-top-container\"><div class=\"sk-text-repr-fallback\"><pre>LogisticRegression(multi_class=&#x27;multinomial&#x27;, solver=&#x27;sag&#x27;)</pre><b>In a Jupyter environment, please rerun this cell to show the HTML representation or trust the notebook. <br />On GitHub, the HTML representation is unable to render, please try loading this page with nbviewer.org.</b></div><div class=\"sk-container\" hidden><div class=\"sk-item\"><div class=\"sk-estimator sk-toggleable\"><input class=\"sk-toggleable__control sk-hidden--visually\" id=\"sk-estimator-id-1\" type=\"checkbox\" checked><label for=\"sk-estimator-id-1\" class=\"sk-toggleable__label sk-toggleable__label-arrow\">LogisticRegression</label><div class=\"sk-toggleable__content\"><pre>LogisticRegression(multi_class=&#x27;multinomial&#x27;, solver=&#x27;sag&#x27;)</pre></div></div></div></div></div>"
            ]
          },
          "metadata": {},
          "execution_count": 7
        }
      ]
    },
    {
      "cell_type": "code",
      "source": [
        "from sklearn.metrics import (\n",
        "    confusion_matrix,\n",
        "    classification_report,\n",
        "    accuracy_score,\n",
        ")\n",
        "\n",
        "y_pred_ovr = logreg_ovr.predict(X_test)\n",
        "y_pred_softmax = logreg_softmax.predict(X_test)\n",
        "# print(\"ovr model:\")\n",
        "# print(confusion_matrix(y_test, y_pred_ovr))\n",
        "# print(\"softmax model:\")\n",
        "# print(confusion_matrix(y_test, y_pred_softmax))\n",
        "# convert to one two threee to 1 2 3\n",
        "y_test = le.inverse_transform(y_test)\n",
        "y_pred_ovr = le.inverse_transform(y_pred_ovr)\n",
        "y_test"
      ],
      "metadata": {
        "colab": {
          "base_uri": "https://localhost:8080/"
        },
        "id": "qi9qdE3OZx4a",
        "outputId": "a211e4df-f77e-468f-c57e-c91e8cdc04dc"
      },
      "execution_count": 8,
      "outputs": [
        {
          "output_type": "execute_result",
          "data": {
            "text/plain": [
              "array(['four', 'eight', 'zero', 'five', 'two', 'two', 'one', 'one', 'six',\n",
              "       'three', 'five', 'eight', 'two', 'zero', 'seven', 'one', 'six',\n",
              "       'nine', 'one', 'two', 'seven', 'one', 'five', 'four', 'two',\n",
              "       'zero', 'five', 'five', 'five', 'six', 'seven', 'zero', 'five',\n",
              "       'seven', 'two', 'eight', 'three', 'eight', 'one', 'six', 'seven',\n",
              "       'eight', 'four', 'one', 'nine', 'six', 'three', 'eight', 'three',\n",
              "       'three', 'seven', 'nine', 'nine', 'one', 'one', 'eight', 'two',\n",
              "       'seven', 'three', 'one', 'six', 'four', 'nine', 'two', 'eight',\n",
              "       'zero', 'four', 'zero', 'three', 'eight', 'five', 'nine', 'two',\n",
              "       'zero', 'three', 'three', 'six', 'three', 'nine', 'nine', 'three',\n",
              "       'seven', 'three', 'seven', 'six', 'zero', 'five', 'zero', 'three',\n",
              "       'four', 'three', 'four', 'nine', 'six', 'four', 'eight', 'eight',\n",
              "       'two', 'four', 'nine', 'eight', 'three', 'seven', 'zero', 'one',\n",
              "       'nine', 'zero', 'two', 'eight', 'three', 'six', 'nine', 'three',\n",
              "       'four', 'seven', 'eight', 'two', 'three', 'eight', 'six', 'one',\n",
              "       'zero', 'five', 'two', 'two', 'zero', 'nine', 'two', 'eight',\n",
              "       'two', 'five', 'eight', 'one', 'six', 'four', 'two', 'six', 'zero',\n",
              "       'one', 'seven', 'five', 'eight', 'seven', 'nine', 'eight', 'five',\n",
              "       'two', 'three', 'four', 'seven', 'one', 'five', 'eight', 'two',\n",
              "       'one', 'two', 'nine', 'nine', 'three', 'one', 'eight', 'eight',\n",
              "       'five', 'nine', 'nine', 'two', 'two', 'five', 'five', 'one',\n",
              "       'eight', 'nine', 'five', 'nine', 'nine', 'zero', 'one', 'seven',\n",
              "       'two', 'three', 'five', 'five', 'three', 'zero', 'nine', 'nine',\n",
              "       'three', 'two', 'three', 'zero', 'five', 'eight', 'five', 'eight',\n",
              "       'three', 'six', 'zero', 'seven', 'seven', 'four', 'four', 'four',\n",
              "       'eight', 'nine', 'three', 'two', 'three', 'three', 'three', 'six',\n",
              "       'nine', 'five', 'one', 'four', 'six', 'six', 'four', 'three',\n",
              "       'one', 'nine', 'two', 'seven', 'two', 'five', 'six', 'one',\n",
              "       'three', 'one', 'nine', 'eight', 'nine', 'nine', 'eight', 'seven',\n",
              "       'six', 'six', 'nine', 'zero', 'three', 'three', 'zero', 'one',\n",
              "       'one', 'four', 'one', 'eight', 'one', 'one', 'four', 'nine',\n",
              "       'five', 'four', 'eight', 'six', 'nine', 'four', 'four', 'one',\n",
              "       'four', 'six', 'nine', 'six', 'seven', 'three', 'three', 'zero',\n",
              "       'nine', 'eight', 'five', 'eight', 'seven', 'seven', 'four', 'zero',\n",
              "       'six', 'two', 'eight', 'two', 'seven', 'seven', 'one', 'four',\n",
              "       'eight', 'four', 'seven', 'six', 'one', 'eight', 'four', 'one',\n",
              "       'nine', 'six', 'seven', 'seven', 'eight', 'eight', 'six', 'zero',\n",
              "       'three', 'nine', 'two', 'five', 'seven', 'eight', 'five', 'nine',\n",
              "       'eight', 'three', 'five', 'four', 'six', 'three', 'zero', 'four',\n",
              "       'seven', 'one', 'nine', 'two', 'zero', 'three', 'two', 'two',\n",
              "       'three', 'six', 'one', 'three', 'four', 'seven', 'four', 'eight',\n",
              "       'six', 'nine', 'six', 'zero', 'zero', 'eight', 'six', 'zero',\n",
              "       'three', 'seven', 'six', 'three', 'three', 'zero', 'one', 'six',\n",
              "       'zero', 'one', 'four', 'six', 'six', 'nine', 'six', 'two', 'seven',\n",
              "       'three', 'seven', 'eight', 'one', 'zero', 'one', 'eight', 'six',\n",
              "       'nine', 'four', 'six', 'five', 'seven', 'one', 'seven', 'seven',\n",
              "       'two', 'one', 'six', 'nine', 'zero', 'five', 'nine', 'four',\n",
              "       'nine', 'nine', 'one', 'eight', 'seven', 'zero', 'four', 'two',\n",
              "       'seven', 'nine', 'eight', 'two', 'zero', 'three', 'five', 'five',\n",
              "       'nine', 'nine', 'eight', 'four', 'zero', 'six', 'five', 'six',\n",
              "       'one', 'five', 'six', 'four', 'one', 'four', 'five', 'zero', 'six',\n",
              "       'five', 'three', 'zero', 'five', 'five', 'eight', 'eight', 'eight',\n",
              "       'two', 'four', 'eight', 'eight', 'nine', 'zero', 'zero', 'one',\n",
              "       'zero', 'five', 'four', 'zero', 'seven', 'seven', 'six', 'two',\n",
              "       'six', 'one', 'zero', 'four', 'five', 'three', 'four', 'six',\n",
              "       'nine', 'four', 'two', 'two', 'two', 'eight'], dtype=object)"
            ]
          },
          "metadata": {},
          "execution_count": 8
        }
      ]
    },
    {
      "cell_type": "code",
      "source": [
        "print(\"ovr model:\")\n",
        "print(f\"classification_report \\n{classification_report(y_test, y_pred_ovr)}\")\n",
        "print(\"softmax model:\")\n",
        "print(f\"classification_report \\n{classification_report(y_test, y_pred_softmax)}\")\n"
      ],
      "metadata": {
        "colab": {
          "base_uri": "https://localhost:8080/",
          "height": 669
        },
        "id": "DWqtsPgqZx6s",
        "outputId": "1c90ba92-01d5-48cc-d8ec-02e06ce6e8e9"
      },
      "execution_count": 21,
      "outputs": [
        {
          "output_type": "stream",
          "name": "stdout",
          "text": [
            "ovr model:\n",
            "classification_report \n",
            "              precision    recall  f1-score   support\n",
            "\n",
            "       eight       0.94      0.90      0.92        52\n",
            "        five       0.97      0.93      0.95        41\n",
            "        four       0.98      0.95      0.96        43\n",
            "        nine       0.96      0.94      0.95        50\n",
            "         one       0.84      0.96      0.90        45\n",
            "       seven       0.97      0.95      0.96        40\n",
            "         six       1.00      0.98      0.99        47\n",
            "       three       0.96      0.98      0.97        48\n",
            "         two       1.00      1.00      1.00        42\n",
            "        zero       0.98      1.00      0.99        42\n",
            "\n",
            "    accuracy                           0.96       450\n",
            "   macro avg       0.96      0.96      0.96       450\n",
            "weighted avg       0.96      0.96      0.96       450\n",
            "\n",
            "softmax model:\n"
          ]
        },
        {
          "output_type": "error",
          "ename": "ValueError",
          "evalue": "Mix of label input types (string and number)",
          "traceback": [
            "\u001b[0;31m---------------------------------------------------------------------------\u001b[0m",
            "\u001b[0;31mValueError\u001b[0m                                Traceback (most recent call last)",
            "\u001b[0;32m<ipython-input-21-0e971853ddf5>\u001b[0m in \u001b[0;36m<cell line: 4>\u001b[0;34m()\u001b[0m\n\u001b[1;32m      2\u001b[0m \u001b[0mprint\u001b[0m\u001b[0;34m(\u001b[0m\u001b[0;34mf\"classification_report \\n{classification_report(y_test, y_pred_ovr)}\"\u001b[0m\u001b[0;34m)\u001b[0m\u001b[0;34m\u001b[0m\u001b[0;34m\u001b[0m\u001b[0m\n\u001b[1;32m      3\u001b[0m \u001b[0mprint\u001b[0m\u001b[0;34m(\u001b[0m\u001b[0;34m\"softmax model:\"\u001b[0m\u001b[0;34m)\u001b[0m\u001b[0;34m\u001b[0m\u001b[0;34m\u001b[0m\u001b[0m\n\u001b[0;32m----> 4\u001b[0;31m \u001b[0mprint\u001b[0m\u001b[0;34m(\u001b[0m\u001b[0;34mf\"classification_report \\n{classification_report(y_test, y_pred_softmax)}\"\u001b[0m\u001b[0;34m)\u001b[0m\u001b[0;34m\u001b[0m\u001b[0;34m\u001b[0m\u001b[0m\n\u001b[0m",
            "\u001b[0;32m/usr/local/lib/python3.10/dist-packages/sklearn/metrics/_classification.py\u001b[0m in \u001b[0;36mclassification_report\u001b[0;34m(y_true, y_pred, labels, target_names, sample_weight, digits, output_dict, zero_division)\u001b[0m\n\u001b[1;32m   2311\u001b[0m \u001b[0;34m\u001b[0m\u001b[0m\n\u001b[1;32m   2312\u001b[0m     \u001b[0;32mif\u001b[0m \u001b[0mlabels\u001b[0m \u001b[0;32mis\u001b[0m \u001b[0;32mNone\u001b[0m\u001b[0;34m:\u001b[0m\u001b[0;34m\u001b[0m\u001b[0;34m\u001b[0m\u001b[0m\n\u001b[0;32m-> 2313\u001b[0;31m         \u001b[0mlabels\u001b[0m \u001b[0;34m=\u001b[0m \u001b[0munique_labels\u001b[0m\u001b[0;34m(\u001b[0m\u001b[0my_true\u001b[0m\u001b[0;34m,\u001b[0m \u001b[0my_pred\u001b[0m\u001b[0;34m)\u001b[0m\u001b[0;34m\u001b[0m\u001b[0;34m\u001b[0m\u001b[0m\n\u001b[0m\u001b[1;32m   2314\u001b[0m         \u001b[0mlabels_given\u001b[0m \u001b[0;34m=\u001b[0m \u001b[0;32mFalse\u001b[0m\u001b[0;34m\u001b[0m\u001b[0;34m\u001b[0m\u001b[0m\n\u001b[1;32m   2315\u001b[0m     \u001b[0;32melse\u001b[0m\u001b[0;34m:\u001b[0m\u001b[0;34m\u001b[0m\u001b[0;34m\u001b[0m\u001b[0m\n",
            "\u001b[0;32m/usr/local/lib/python3.10/dist-packages/sklearn/utils/multiclass.py\u001b[0m in \u001b[0;36munique_labels\u001b[0;34m(*ys)\u001b[0m\n\u001b[1;32m    115\u001b[0m     \u001b[0;31m# Check that we don't mix string type with number type\u001b[0m\u001b[0;34m\u001b[0m\u001b[0;34m\u001b[0m\u001b[0m\n\u001b[1;32m    116\u001b[0m     \u001b[0;32mif\u001b[0m \u001b[0mlen\u001b[0m\u001b[0;34m(\u001b[0m\u001b[0mset\u001b[0m\u001b[0;34m(\u001b[0m\u001b[0misinstance\u001b[0m\u001b[0;34m(\u001b[0m\u001b[0mlabel\u001b[0m\u001b[0;34m,\u001b[0m \u001b[0mstr\u001b[0m\u001b[0;34m)\u001b[0m \u001b[0;32mfor\u001b[0m \u001b[0mlabel\u001b[0m \u001b[0;32min\u001b[0m \u001b[0mys_labels\u001b[0m\u001b[0;34m)\u001b[0m\u001b[0;34m)\u001b[0m \u001b[0;34m>\u001b[0m \u001b[0;36m1\u001b[0m\u001b[0;34m:\u001b[0m\u001b[0;34m\u001b[0m\u001b[0;34m\u001b[0m\u001b[0m\n\u001b[0;32m--> 117\u001b[0;31m         \u001b[0;32mraise\u001b[0m \u001b[0mValueError\u001b[0m\u001b[0;34m(\u001b[0m\u001b[0;34m\"Mix of label input types (string and number)\"\u001b[0m\u001b[0;34m)\u001b[0m\u001b[0;34m\u001b[0m\u001b[0;34m\u001b[0m\u001b[0m\n\u001b[0m\u001b[1;32m    118\u001b[0m \u001b[0;34m\u001b[0m\u001b[0m\n\u001b[1;32m    119\u001b[0m     \u001b[0;32mreturn\u001b[0m \u001b[0mxp\u001b[0m\u001b[0;34m.\u001b[0m\u001b[0masarray\u001b[0m\u001b[0;34m(\u001b[0m\u001b[0msorted\u001b[0m\u001b[0;34m(\u001b[0m\u001b[0mys_labels\u001b[0m\u001b[0;34m)\u001b[0m\u001b[0;34m)\u001b[0m\u001b[0;34m\u001b[0m\u001b[0;34m\u001b[0m\u001b[0m\n",
            "\u001b[0;31mValueError\u001b[0m: Mix of label input types (string and number)"
          ]
        }
      ]
    },
    {
      "cell_type": "code",
      "source": [
        "print(\"ovr model:\")\n",
        "print(f\"accuracy_score: {accuracy_score(y_test, y_pred_ovr)}\")\n",
        "print(\"softmax model:\")\n",
        "print(f\"accuracy_score: {accuracy_score(y_test, y_pred_softmax)}\")\n",
        "\n",
        "result = confusion_matrix(y_test, y_pred_ovr)\n",
        "result.diagonal().sum() / result.sum()"
      ],
      "metadata": {
        "colab": {
          "base_uri": "https://localhost:8080/"
        },
        "id": "aqQ6mngCZx9r",
        "outputId": "849721c4-5238-49d2-e4cf-c153aff923ef"
      },
      "execution_count": 20,
      "outputs": [
        {
          "output_type": "stream",
          "name": "stdout",
          "text": [
            "ovr model:\n",
            "accuracy_score: 0.9577777777777777\n",
            "softmax model:\n",
            "accuracy_score: 0.0\n"
          ]
        },
        {
          "output_type": "execute_result",
          "data": {
            "text/plain": [
              "0.9577777777777777"
            ]
          },
          "metadata": {},
          "execution_count": 20
        }
      ]
    },
    {
      "cell_type": "code",
      "source": [
        "from sklearn.metrics import roc_curve, auc\n",
        "\n",
        "fpr, tpr, thresholds = roc_curve(y_test, y_pred_ovr, pos_label=1)"
      ],
      "metadata": {
        "colab": {
          "base_uri": "https://localhost:8080/",
          "height": 322
        },
        "id": "Y0yBZhXTZyAT",
        "outputId": "6d63ef41-5d94-4fc8-deed-10454b380496"
      },
      "execution_count": 19,
      "outputs": [
        {
          "output_type": "error",
          "ename": "TypeError",
          "evalue": "unsupported operand type(s) for -: 'str' and 'str'",
          "traceback": [
            "\u001b[0;31m---------------------------------------------------------------------------\u001b[0m",
            "\u001b[0;31mTypeError\u001b[0m                                 Traceback (most recent call last)",
            "\u001b[0;32m<ipython-input-19-231338030f24>\u001b[0m in \u001b[0;36m<cell line: 3>\u001b[0;34m()\u001b[0m\n\u001b[1;32m      1\u001b[0m \u001b[0;32mfrom\u001b[0m \u001b[0msklearn\u001b[0m\u001b[0;34m.\u001b[0m\u001b[0mmetrics\u001b[0m \u001b[0;32mimport\u001b[0m \u001b[0mroc_curve\u001b[0m\u001b[0;34m,\u001b[0m \u001b[0mauc\u001b[0m\u001b[0;34m\u001b[0m\u001b[0;34m\u001b[0m\u001b[0m\n\u001b[1;32m      2\u001b[0m \u001b[0;34m\u001b[0m\u001b[0m\n\u001b[0;32m----> 3\u001b[0;31m \u001b[0mfpr\u001b[0m\u001b[0;34m,\u001b[0m \u001b[0mtpr\u001b[0m\u001b[0;34m,\u001b[0m \u001b[0mthresholds\u001b[0m \u001b[0;34m=\u001b[0m \u001b[0mroc_curve\u001b[0m\u001b[0;34m(\u001b[0m\u001b[0my_test\u001b[0m\u001b[0;34m,\u001b[0m \u001b[0my_pred_ovr\u001b[0m\u001b[0;34m,\u001b[0m \u001b[0mpos_label\u001b[0m\u001b[0;34m=\u001b[0m\u001b[0;36m1\u001b[0m\u001b[0;34m)\u001b[0m\u001b[0;34m\u001b[0m\u001b[0;34m\u001b[0m\u001b[0m\n\u001b[0m",
            "\u001b[0;32m/usr/local/lib/python3.10/dist-packages/sklearn/metrics/_ranking.py\u001b[0m in \u001b[0;36mroc_curve\u001b[0;34m(y_true, y_score, pos_label, sample_weight, drop_intermediate)\u001b[0m\n\u001b[1;32m    990\u001b[0m     \u001b[0marray\u001b[0m\u001b[0;34m(\u001b[0m\u001b[0;34m[\u001b[0m\u001b[0;36m1.8\u001b[0m \u001b[0;34m,\u001b[0m \u001b[0;36m0.8\u001b[0m \u001b[0;34m,\u001b[0m \u001b[0;36m0.4\u001b[0m \u001b[0;34m,\u001b[0m \u001b[0;36m0.35\u001b[0m\u001b[0;34m,\u001b[0m \u001b[0;36m0.1\u001b[0m \u001b[0;34m]\u001b[0m\u001b[0;34m)\u001b[0m\u001b[0;34m\u001b[0m\u001b[0;34m\u001b[0m\u001b[0m\n\u001b[1;32m    991\u001b[0m     \"\"\"\n\u001b[0;32m--> 992\u001b[0;31m     fps, tps, thresholds = _binary_clf_curve(\n\u001b[0m\u001b[1;32m    993\u001b[0m         \u001b[0my_true\u001b[0m\u001b[0;34m,\u001b[0m \u001b[0my_score\u001b[0m\u001b[0;34m,\u001b[0m \u001b[0mpos_label\u001b[0m\u001b[0;34m=\u001b[0m\u001b[0mpos_label\u001b[0m\u001b[0;34m,\u001b[0m \u001b[0msample_weight\u001b[0m\u001b[0;34m=\u001b[0m\u001b[0msample_weight\u001b[0m\u001b[0;34m\u001b[0m\u001b[0;34m\u001b[0m\u001b[0m\n\u001b[1;32m    994\u001b[0m     )\n",
            "\u001b[0;32m/usr/local/lib/python3.10/dist-packages/sklearn/metrics/_ranking.py\u001b[0m in \u001b[0;36m_binary_clf_curve\u001b[0;34m(y_true, y_score, pos_label, sample_weight)\u001b[0m\n\u001b[1;32m    781\u001b[0m     \u001b[0;31m# the indices associated with the distinct values. We also\u001b[0m\u001b[0;34m\u001b[0m\u001b[0;34m\u001b[0m\u001b[0m\n\u001b[1;32m    782\u001b[0m     \u001b[0;31m# concatenate a value for the end of the curve.\u001b[0m\u001b[0;34m\u001b[0m\u001b[0;34m\u001b[0m\u001b[0m\n\u001b[0;32m--> 783\u001b[0;31m     \u001b[0mdistinct_value_indices\u001b[0m \u001b[0;34m=\u001b[0m \u001b[0mnp\u001b[0m\u001b[0;34m.\u001b[0m\u001b[0mwhere\u001b[0m\u001b[0;34m(\u001b[0m\u001b[0mnp\u001b[0m\u001b[0;34m.\u001b[0m\u001b[0mdiff\u001b[0m\u001b[0;34m(\u001b[0m\u001b[0my_score\u001b[0m\u001b[0;34m)\u001b[0m\u001b[0;34m)\u001b[0m\u001b[0;34m[\u001b[0m\u001b[0;36m0\u001b[0m\u001b[0;34m]\u001b[0m\u001b[0;34m\u001b[0m\u001b[0;34m\u001b[0m\u001b[0m\n\u001b[0m\u001b[1;32m    784\u001b[0m     \u001b[0mthreshold_idxs\u001b[0m \u001b[0;34m=\u001b[0m \u001b[0mnp\u001b[0m\u001b[0;34m.\u001b[0m\u001b[0mr_\u001b[0m\u001b[0;34m[\u001b[0m\u001b[0mdistinct_value_indices\u001b[0m\u001b[0;34m,\u001b[0m \u001b[0my_true\u001b[0m\u001b[0;34m.\u001b[0m\u001b[0msize\u001b[0m \u001b[0;34m-\u001b[0m \u001b[0;36m1\u001b[0m\u001b[0;34m]\u001b[0m\u001b[0;34m\u001b[0m\u001b[0;34m\u001b[0m\u001b[0m\n\u001b[1;32m    785\u001b[0m \u001b[0;34m\u001b[0m\u001b[0m\n",
            "\u001b[0;32m/usr/local/lib/python3.10/dist-packages/numpy/lib/function_base.py\u001b[0m in \u001b[0;36mdiff\u001b[0;34m(a, n, axis, prepend, append)\u001b[0m\n\u001b[1;32m   1450\u001b[0m     \u001b[0mop\u001b[0m \u001b[0;34m=\u001b[0m \u001b[0mnot_equal\u001b[0m \u001b[0;32mif\u001b[0m \u001b[0ma\u001b[0m\u001b[0;34m.\u001b[0m\u001b[0mdtype\u001b[0m \u001b[0;34m==\u001b[0m \u001b[0mnp\u001b[0m\u001b[0;34m.\u001b[0m\u001b[0mbool_\u001b[0m \u001b[0;32melse\u001b[0m \u001b[0msubtract\u001b[0m\u001b[0;34m\u001b[0m\u001b[0;34m\u001b[0m\u001b[0m\n\u001b[1;32m   1451\u001b[0m     \u001b[0;32mfor\u001b[0m \u001b[0m_\u001b[0m \u001b[0;32min\u001b[0m \u001b[0mrange\u001b[0m\u001b[0;34m(\u001b[0m\u001b[0mn\u001b[0m\u001b[0;34m)\u001b[0m\u001b[0;34m:\u001b[0m\u001b[0;34m\u001b[0m\u001b[0;34m\u001b[0m\u001b[0m\n\u001b[0;32m-> 1452\u001b[0;31m         \u001b[0ma\u001b[0m \u001b[0;34m=\u001b[0m \u001b[0mop\u001b[0m\u001b[0;34m(\u001b[0m\u001b[0ma\u001b[0m\u001b[0;34m[\u001b[0m\u001b[0mslice1\u001b[0m\u001b[0;34m]\u001b[0m\u001b[0;34m,\u001b[0m \u001b[0ma\u001b[0m\u001b[0;34m[\u001b[0m\u001b[0mslice2\u001b[0m\u001b[0;34m]\u001b[0m\u001b[0;34m)\u001b[0m\u001b[0;34m\u001b[0m\u001b[0;34m\u001b[0m\u001b[0m\n\u001b[0m\u001b[1;32m   1453\u001b[0m \u001b[0;34m\u001b[0m\u001b[0m\n\u001b[1;32m   1454\u001b[0m     \u001b[0;32mreturn\u001b[0m \u001b[0ma\u001b[0m\u001b[0;34m\u001b[0m\u001b[0;34m\u001b[0m\u001b[0m\n",
            "\u001b[0;31mTypeError\u001b[0m: unsupported operand type(s) for -: 'str' and 'str'"
          ]
        }
      ]
    },
    {
      "cell_type": "code",
      "source": [
        "roc_auc = auc(fpr, tpr)\n",
        "roc_auc\n"
      ],
      "metadata": {
        "colab": {
          "base_uri": "https://localhost:8080/",
          "height": 159
        },
        "id": "nMCr1nieZyCq",
        "outputId": "874199a5-56f4-4771-f4d0-3d05099455cc"
      },
      "execution_count": 18,
      "outputs": [
        {
          "output_type": "error",
          "ename": "NameError",
          "evalue": "name 'fpr' is not defined",
          "traceback": [
            "\u001b[0;31m---------------------------------------------------------------------------\u001b[0m",
            "\u001b[0;31mNameError\u001b[0m                                 Traceback (most recent call last)",
            "\u001b[0;32m<ipython-input-18-568412a79775>\u001b[0m in \u001b[0;36m<cell line: 1>\u001b[0;34m()\u001b[0m\n\u001b[0;32m----> 1\u001b[0;31m \u001b[0mroc_auc\u001b[0m \u001b[0;34m=\u001b[0m \u001b[0mauc\u001b[0m\u001b[0;34m(\u001b[0m\u001b[0mfpr\u001b[0m\u001b[0;34m,\u001b[0m \u001b[0mtpr\u001b[0m\u001b[0;34m)\u001b[0m\u001b[0;34m\u001b[0m\u001b[0;34m\u001b[0m\u001b[0m\n\u001b[0m\u001b[1;32m      2\u001b[0m \u001b[0mroc_auc\u001b[0m\u001b[0;34m\u001b[0m\u001b[0;34m\u001b[0m\u001b[0m\n",
            "\u001b[0;31mNameError\u001b[0m: name 'fpr' is not defined"
          ]
        }
      ]
    },
    {
      "cell_type": "code",
      "source": [
        "plt.figure()\n",
        "lw = 2\n",
        "plt.plot(fpr, tpr, lw=lw, label=\"ROC curve \")\n",
        "plt.show()"
      ],
      "metadata": {
        "colab": {
          "base_uri": "https://localhost:8080/",
          "height": 211
        },
        "id": "BbOeVrLPZyFV",
        "outputId": "f62abed2-08ef-4702-c00e-01960539d93f"
      },
      "execution_count": 17,
      "outputs": [
        {
          "output_type": "error",
          "ename": "NameError",
          "evalue": "name 'fpr' is not defined",
          "traceback": [
            "\u001b[0;31m---------------------------------------------------------------------------\u001b[0m",
            "\u001b[0;31mNameError\u001b[0m                                 Traceback (most recent call last)",
            "\u001b[0;32m<ipython-input-17-60f661474446>\u001b[0m in \u001b[0;36m<cell line: 3>\u001b[0;34m()\u001b[0m\n\u001b[1;32m      1\u001b[0m \u001b[0mplt\u001b[0m\u001b[0;34m.\u001b[0m\u001b[0mfigure\u001b[0m\u001b[0;34m(\u001b[0m\u001b[0;34m)\u001b[0m\u001b[0;34m\u001b[0m\u001b[0;34m\u001b[0m\u001b[0m\n\u001b[1;32m      2\u001b[0m \u001b[0mlw\u001b[0m \u001b[0;34m=\u001b[0m \u001b[0;36m2\u001b[0m\u001b[0;34m\u001b[0m\u001b[0;34m\u001b[0m\u001b[0m\n\u001b[0;32m----> 3\u001b[0;31m \u001b[0mplt\u001b[0m\u001b[0;34m.\u001b[0m\u001b[0mplot\u001b[0m\u001b[0;34m(\u001b[0m\u001b[0mfpr\u001b[0m\u001b[0;34m,\u001b[0m \u001b[0mtpr\u001b[0m\u001b[0;34m,\u001b[0m \u001b[0mlw\u001b[0m\u001b[0;34m=\u001b[0m\u001b[0mlw\u001b[0m\u001b[0;34m,\u001b[0m \u001b[0mlabel\u001b[0m\u001b[0;34m=\u001b[0m\u001b[0;34m\"ROC curve \"\u001b[0m\u001b[0;34m)\u001b[0m\u001b[0;34m\u001b[0m\u001b[0;34m\u001b[0m\u001b[0m\n\u001b[0m\u001b[1;32m      4\u001b[0m \u001b[0mplt\u001b[0m\u001b[0;34m.\u001b[0m\u001b[0mshow\u001b[0m\u001b[0;34m(\u001b[0m\u001b[0;34m)\u001b[0m\u001b[0;34m\u001b[0m\u001b[0;34m\u001b[0m\u001b[0m\n",
            "\u001b[0;31mNameError\u001b[0m: name 'fpr' is not defined"
          ]
        },
        {
          "output_type": "display_data",
          "data": {
            "text/plain": [
              "<Figure size 640x480 with 0 Axes>"
            ]
          },
          "metadata": {}
        }
      ]
    },
    {
      "cell_type": "code",
      "source": [
        "# ovr model\n",
        "for i in range(10):\n",
        "    print(f\"ovr model: probability of {i}: {logreg_ovr.predict_proba(X_test)[i]}\")"
      ],
      "metadata": {
        "colab": {
          "base_uri": "https://localhost:8080/"
        },
        "id": "hiZrGBgLZyH1",
        "outputId": "749db64c-bd5c-4892-d807-e95abc1f2771"
      },
      "execution_count": 15,
      "outputs": [
        {
          "output_type": "stream",
          "name": "stdout",
          "text": [
            "ovr model: probability of 0: [1.00160387e-06 1.14372905e-13 9.99981773e-01 5.45939439e-19\n",
            " 7.08222052e-08 7.68843568e-07 5.70761860e-10 3.23540019e-28\n",
            " 1.61740233e-15 1.63850579e-05]\n",
            "ovr model: probability of 1: [9.99986564e-01 1.06779255e-11 5.85914610e-06 2.91779560e-06\n",
            " 7.71225474e-10 5.69624912e-10 2.72228356e-06 1.64168872e-07\n",
            " 1.13804112e-08 1.75998866e-06]\n",
            "ovr model: probability of 2: [3.60753427e-07 1.51272524e-07 3.23357282e-08 7.90239200e-05\n",
            " 1.86874592e-11 7.18336334e-09 7.73397385e-08 3.09677805e-16\n",
            " 6.85607557e-10 9.99920346e-01]\n",
            "ovr model: probability of 3: [1.98979096e-07 9.99997496e-01 2.27526177e-06 3.77847226e-09\n",
            " 1.76857593e-11 2.56055942e-12 1.29683997e-09 2.36542498e-08\n",
            " 1.46996053e-17 7.87899192e-10]\n",
            "ovr model: probability of 4: [4.77355699e-06 6.46521383e-10 5.94880839e-17 9.54142172e-13\n",
            " 7.44481484e-10 1.37154598e-18 4.18001525e-12 6.15968319e-08\n",
            " 9.99995163e-01 7.34517246e-13]\n",
            "ovr model: probability of 5: [4.02584203e-02 5.39799891e-09 8.92169097e-12 1.42281777e-05\n",
            " 4.12704338e-06 2.66448822e-11 1.56530221e-12 8.54198087e-06\n",
            " 9.59714664e-01 1.25950191e-08]\n",
            "ovr model: probability of 6: [3.09411171e-04 9.69008907e-11 1.31106740e-04 2.60811756e-11\n",
            " 9.99481786e-01 2.10291872e-06 5.73817036e-10 3.59560908e-06\n",
            " 7.19966750e-05 5.04497245e-18]\n",
            "ovr model: probability of 7: [6.65888838e-03 1.61944392e-08 1.11666122e-07 4.22614280e-10\n",
            " 9.93337254e-01 1.65541250e-06 1.18077281e-06 9.30433230e-09\n",
            " 8.83490720e-07 1.73986048e-13]\n",
            "ovr model: probability of 8: [2.51726445e-02 3.94471338e-10 2.01228277e-07 7.70786529e-19\n",
            " 1.32792857e-05 7.63569084e-16 9.74813859e-01 1.30461486e-10\n",
            " 1.51419002e-08 1.95760587e-10]\n",
            "ovr model: probability of 9: [1.46880318e-02 2.81912528e-07 8.39846280e-18 3.81504306e-01\n",
            " 6.75026423e-14 5.78432928e-12 2.57986307e-15 6.03807361e-01\n",
            " 1.91446913e-08 9.02175959e-12]\n"
          ]
        }
      ]
    },
    {
      "cell_type": "code",
      "source": [
        "# softmax model\n",
        "for i in range(10):\n",
        "    print(\n",
        "        f\"softmax model: probability of {i}: {logreg_softmax.predict_proba(X_test)[i]}\"\n",
        "    )\n"
      ],
      "metadata": {
        "colab": {
          "base_uri": "https://localhost:8080/"
        },
        "id": "FK1XzQXEZyKa",
        "outputId": "c838acd2-1ab7-4977-ad4a-7837a647dc41"
      },
      "execution_count": 16,
      "outputs": [
        {
          "output_type": "stream",
          "name": "stdout",
          "text": [
            "softmax model: probability of 0: [3.96050526e-08 3.04719192e-12 9.99997077e-01 7.31325598e-14\n",
            " 1.96034731e-06 9.96131577e-08 6.99899168e-07 1.60548410e-17\n",
            " 6.00245326e-16 1.23963848e-07]\n",
            "softmax model: probability of 1: [9.99647375e-01 2.35037684e-09 3.93810836e-06 3.87122613e-06\n",
            " 4.56221477e-07 1.96976113e-08 3.43708120e-04 7.30376455e-08\n",
            " 1.36335375e-08 5.42329135e-07]\n",
            "softmax model: probability of 2: [8.53424008e-10 4.66732756e-10 4.14104334e-12 2.20249172e-09\n",
            " 7.07972949e-13 2.36423484e-11 1.60547700e-08 9.96166826e-15\n",
            " 3.39853475e-14 9.99999980e-01]\n",
            "softmax model: probability of 3: [9.48256609e-09 9.99999536e-01 3.33523461e-07 3.31199296e-08\n",
            " 5.14885882e-10 1.87019444e-10 1.77642941e-10 8.66284272e-08\n",
            " 6.36200923e-15 3.64473373e-11]\n",
            "softmax model: probability of 4: [3.92653059e-09 1.02125433e-10 3.77102833e-17 4.74275220e-12\n",
            " 1.17476994e-09 1.10885058e-14 8.94404397e-13 4.43701582e-08\n",
            " 9.99999950e-01 1.11422867e-14]\n",
            "softmax model: probability of 5: [9.27812421e-03 2.73215400e-07 2.17339952e-10 2.02788375e-05\n",
            " 2.39850765e-06 2.14158444e-07 2.68036435e-07 9.28222658e-03\n",
            " 9.81415251e-01 9.65028389e-07]\n",
            "softmax model: probability of 6: [5.07956019e-06 6.37384438e-12 1.53870818e-05 2.43596600e-09\n",
            " 9.99946779e-01 3.62598357e-06 3.46453209e-09 9.09651561e-07\n",
            " 2.82127512e-05 2.62046067e-15]\n",
            "softmax model: probability of 7: [3.68445825e-04 2.42709828e-09 4.48182011e-06 2.77341168e-08\n",
            " 9.99615768e-01 3.71762821e-06 1.58833794e-06 2.69488192e-07\n",
            " 5.69875066e-06 9.74948729e-12]\n",
            "softmax model: probability of 8: [1.35521638e-06 5.89036726e-12 9.22766252e-08 1.18681375e-17\n",
            " 1.81008339e-07 4.52884063e-16 9.99998371e-01 8.28412372e-13\n",
            " 7.72598810e-11 4.46220112e-11]\n",
            "softmax model: probability of 9: [9.67793029e-06 4.93705084e-08 8.38359915e-18 1.93226793e-03\n",
            " 7.81455840e-14 1.54309112e-12 1.04025702e-14 9.98058004e-01\n",
            " 8.43611966e-10 3.94264190e-14]\n"
          ]
        }
      ]
    }
  ]
}